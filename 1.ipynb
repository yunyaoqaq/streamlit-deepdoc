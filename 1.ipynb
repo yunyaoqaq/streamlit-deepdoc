{
 "cells": [
  {
   "cell_type": "code",
   "execution_count": null,
   "metadata": {},
   "outputs": [],
   "source": [
    "python deepdoc/vision/t_ocr.py \\\n",
    "--inputs=/teamspace/studios/this_studio/1-streamlit-deepdoc/doc/data.pdf\n",
    "--output_dir=/teamspace/studios/this_studio/1-streamlit-deepdoc/doc-changed"
   ]
  },
  {
   "cell_type": "code",
   "execution_count": null,
   "metadata": {},
   "outputs": [],
   "source": []
  }
 ],
 "metadata": {
  "language_info": {
   "name": "python"
  }
 },
 "nbformat": 4,
 "nbformat_minor": 2
}
